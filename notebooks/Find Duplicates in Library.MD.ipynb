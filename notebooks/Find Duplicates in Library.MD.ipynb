{
 "cells": [
  {
   "cell_type": "markdown",
   "id": "5c0c5173",
   "metadata": {},
   "source": [
    "### Import"
   ]
  },
  {
   "cell_type": "code",
   "execution_count": 46,
   "id": "282eaab6",
   "metadata": {},
   "outputs": [],
   "source": [
    "import os\n",
    "import sys\n",
    "import numpy as np"
   ]
  },
  {
   "cell_type": "markdown",
   "id": "2b10785b",
   "metadata": {},
   "source": [
    "### Read Library.md"
   ]
  },
  {
   "cell_type": "code",
   "execution_count": 47,
   "id": "7c0ca3d5",
   "metadata": {},
   "outputs": [],
   "source": [
    "lines = []\n",
    "with open('../markdown/library.md','r') as f:\n",
    "    for line in f:\n",
    "        lines.append(line.rstrip())"
   ]
  },
  {
   "cell_type": "markdown",
   "id": "c710b585",
   "metadata": {},
   "source": [
    "### Process"
   ]
  },
  {
   "cell_type": "code",
   "execution_count": 48,
   "id": "e3683555",
   "metadata": {},
   "outputs": [],
   "source": [
    "combined = []\n",
    "for myline in lines:\n",
    "    if myline[:3] == '#qc':\n",
    "        if myline[:6] != '#qc ..':\n",
    "            elements = myline.split('@')\n",
    "            name = elements[0][4:]\n",
    "            title = elements[1]\n",
    "            combined.append(name + ' - ' + title)"
   ]
  },
  {
   "cell_type": "markdown",
   "id": "9bba51a2",
   "metadata": {},
   "source": [
    "### Get duplicates"
   ]
  },
  {
   "cell_type": "code",
   "execution_count": 49,
   "id": "94b99a3d",
   "metadata": {},
   "outputs": [],
   "source": [
    "D = {}\n",
    "for item in combined:\n",
    "    if item in D:\n",
    "        print(item)\n",
    "        count = D[item]\n",
    "        D[item] = count + 1\n",
    "    else:\n",
    "        D[item] = 1"
   ]
  }
 ],
 "metadata": {
  "kernelspec": {
   "display_name": "Python 3 (ipykernel)",
   "language": "python",
   "name": "python3"
  },
  "language_info": {
   "codemirror_mode": {
    "name": "ipython",
    "version": 3
   },
   "file_extension": ".py",
   "mimetype": "text/x-python",
   "name": "python",
   "nbconvert_exporter": "python",
   "pygments_lexer": "ipython3",
   "version": "3.10.6"
  }
 },
 "nbformat": 4,
 "nbformat_minor": 5
}
