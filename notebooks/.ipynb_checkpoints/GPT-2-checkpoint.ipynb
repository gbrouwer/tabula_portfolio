{
 "cells": [
  {
   "cell_type": "markdown",
   "id": "bb3b0138",
   "metadata": {},
   "source": [
    "### Import"
   ]
  },
  {
   "cell_type": "code",
   "execution_count": 10,
   "id": "2ba3d82a",
   "metadata": {},
   "outputs": [],
   "source": [
    "from transformers import pipeline, set_seed\n",
    "from transformers import GPT2Tokenizer, GPT2Model"
   ]
  },
  {
   "cell_type": "markdown",
   "id": "9daf9317",
   "metadata": {},
   "source": [
    "### Model Param"
   ]
  },
  {
   "cell_type": "code",
   "execution_count": 18,
   "id": "14f36d47",
   "metadata": {},
   "outputs": [],
   "source": [
    "tokenizer = GPT2Tokenizer.from_pretrained('gpt2')\n",
    "model = GPT2Model.from_pretrained('gpt2')\n",
    "text = \"Replace me by any text you'd like.\"\n",
    "encoded_input = tokenizer(text, return_tensors='pt')\n",
    "output = model(**encoded_input)"
   ]
  },
  {
   "cell_type": "markdown",
   "id": "92c05057",
   "metadata": {},
   "source": [
    "### Input Prompt"
   ]
  },
  {
   "cell_type": "code",
   "execution_count": 55,
   "id": "f482285e",
   "metadata": {},
   "outputs": [],
   "source": [
    "curstr = 'Can I'\n",
    "set_seed(100)"
   ]
  },
  {
   "cell_type": "markdown",
   "id": "0644fee2",
   "metadata": {},
   "source": [
    "### Start Generating Text"
   ]
  },
  {
   "cell_type": "code",
   "execution_count": 63,
   "id": "1aab4339",
   "metadata": {},
   "outputs": [
    {
     "name": "stderr",
     "output_type": "stream",
     "text": [
      "Setting `pad_token_id` to `eos_token_id`:50256 for open-end generation.\n"
     ]
    },
    {
     "name": "stdout",
     "output_type": "stream",
     "text": [
      "[{'generated_text': 'Can I pay for this service? Yes'}, {'generated_text': 'Can I buy any of this?\\n'}, {'generated_text': 'Can I make a difference?\\n\\n'}, {'generated_text': 'Can I buy a knife from your website'}, {'generated_text': 'Can I get a good look right away'}, {'generated_text': 'Can I give him a shot? I'}, {'generated_text': \"Can I share here what's happening to\"}, {'generated_text': 'Can I get them?! I have a'}, {'generated_text': 'Can I bring my baby girl back to'}, {'generated_text': 'Can I use a 3D printer for'}, {'generated_text': \"Can I say 'I saw you?'\"}, {'generated_text': \"Can I get all my water there?'\"}, {'generated_text': 'Can I see a future?\" he asks'}, {'generated_text': \"Can I ask this? I'm not\"}, {'generated_text': 'Can I stop worrying about being a bad'}, {'generated_text': 'Can I just pull out the phone and'}, {'generated_text': 'Can I make it by my own hand'}, {'generated_text': 'Can I get a picture of those bags'}, {'generated_text': 'Can I take a drink at the hotel'}, {'generated_text': 'Can I just cut in with them,'}, {'generated_text': 'Can I play with the original soundtrack?'}, {'generated_text': 'Can I keep track of who I really'}, {'generated_text': 'Can I be happy? Because no.'}, {'generated_text': 'Can I help the project in development by'}, {'generated_text': 'Can I do that?\"'}, {'generated_text': 'Can I write it? Well for any'}, {'generated_text': 'Can I give you permission to download this'}, {'generated_text': 'Can I go to the office now and'}, {'generated_text': 'Can I use it instead of my normal'}, {'generated_text': 'Can I get something in order to replace'}, {'generated_text': 'Can I just try to stop that?\"'}, {'generated_text': 'Can I make more in the world?'}, {'generated_text': 'Can I be responsible for my own safety'}, {'generated_text': 'Can I just show you my hand?'}, {'generated_text': 'Can I just leave that thing behind and'}, {'generated_text': 'Can I be able to do this at'}, {'generated_text': 'Can I give it an \"A\"'}, {'generated_text': 'Can I call my dad?\"\\n\\n'}, {'generated_text': 'Can I get out there and get the'}, {'generated_text': 'Can I look at a girl wearing a'}, {'generated_text': 'Can I use multiple tabs? Yes No'}, {'generated_text': 'Can I use the USB adapter?\\n'}, {'generated_text': 'Can I change, or do any of'}, {'generated_text': \"Can I do things when they don't\"}, {'generated_text': 'Can I get pregnant after three months?\"'}, {'generated_text': \"Can I use that to say I'm\"}, {'generated_text': 'Can I be like my dad anymore?'}, {'generated_text': 'Can I have free play now?\\n'}, {'generated_text': 'Can I use my phone just like that'}, {'generated_text': 'Can I get my new PC after purchasing'}, {'generated_text': \"Can I get the money I would've\"}, {'generated_text': 'Can I get the latest on this particular'}, {'generated_text': 'Can I buy in stores? Yes but'}, {'generated_text': 'Can I drop me in my garden at'}, {'generated_text': 'Can I get any experience with that?\"'}, {'generated_text': 'Can I put my shoes back on,'}, {'generated_text': 'Can I do this?\" But they were'}, {'generated_text': 'Can I write an app?\\n\\n'}, {'generated_text': 'Can I just make some chocolate here!\"'}, {'generated_text': 'Can I have a dog with me?\"'}, {'generated_text': 'Can I get this with my other headphones'}, {'generated_text': 'Can I just get a job with me'}, {'generated_text': 'Can I just come out and play?\"'}, {'generated_text': 'Can I use her as a character to'}, {'generated_text': 'Can I use their code to create a'}, {'generated_text': 'Can I have a drink now?\\n'}, {'generated_text': 'Can I buy my copy of Dark Souls'}, {'generated_text': 'Can I do my homework and get some'}, {'generated_text': 'Can I go with your model?\" This'}, {'generated_text': 'Can I come up with a way to'}, {'generated_text': 'Can I have any interest in your future'}, {'generated_text': 'Can I try out for a different league'}, {'generated_text': 'Can I have a friend that does the'}, {'generated_text': 'Can I bring in more food at this'}, {'generated_text': 'Can I look at a picture of a'}, {'generated_text': 'Can I get the ball?\\n\\n'}, {'generated_text': 'Can I get the next week with any'}, {'generated_text': 'Can I not be the first person to'}, {'generated_text': 'Can I just have to move like he'}, {'generated_text': 'Can I share this on social media?'}, {'generated_text': 'Can I talk to them now?\"\\n'}, {'generated_text': 'Can I get a discount on some of'}, {'generated_text': 'Can I get your name from anywhere?\"'}, {'generated_text': 'Can I put in something on your device'}, {'generated_text': 'Can I run?\\n\\nThe only'}, {'generated_text': 'Can I have two fingers so I can'}, {'generated_text': 'Can I go outside for 15 minutes to'}, {'generated_text': 'Can I have a ticket in town?'}, {'generated_text': 'Can I take anything out?\" And that'}, {'generated_text': 'Can I have an extra hour?\" asked'}, {'generated_text': 'Can I go up to the altar and'}, {'generated_text': 'Can I have to do this?\" He'}, {'generated_text': 'Can I leave it at that?\".\\n'}, {'generated_text': 'Can I have a dog without my dog'}, {'generated_text': 'Can I wear panties at ALL times?'}, {'generated_text': 'Can I put a cap on the money'}, {'generated_text': 'Can I make this a day in his'}, {'generated_text': 'Can I put it like this?\\n'}, {'generated_text': 'Can I send my phone here? I'}, {'generated_text': 'Can I keep my books up late and'}]\n"
     ]
    },
    {
     "name": "stderr",
     "output_type": "stream",
     "text": [
      "Setting `pad_token_id` to `eos_token_id`:50256 for open-end generation.\n"
     ]
    },
    {
     "name": "stdout",
     "output_type": "stream",
     "text": [
      "[{'generated_text': 'Can I say that I know that many'}, {'generated_text': 'Can I just start again?\\n\\n'}, {'generated_text': 'Can I give my credit card a credit'}, {'generated_text': 'Can I share it or not? You'}, {'generated_text': \"Can I eat this?'\\n\\nNo\"}, {'generated_text': 'Can I put them on?\\n\\n'}, {'generated_text': 'Can I talk and tell them this?'}, {'generated_text': 'Can I buy this in my city?'}, {'generated_text': 'Can I even write in the way of'}, {'generated_text': 'Can I say, \"I\\'m going'}, {'generated_text': 'Can I tell you where I lived the'}, {'generated_text': 'Can I use the app to create a'}, {'generated_text': \"Can I just say 'that's okay\"}, {'generated_text': 'Can I add more quotes to this page'}, {'generated_text': 'Can I not use the name you can'}, {'generated_text': 'Can I change the size of the card'}, {'generated_text': 'Can I go to a concert in Seattle'}, {'generated_text': 'Can I see the pictures. He just'}, {'generated_text': 'Can I make a reservation and can I'}, {'generated_text': 'Can I be a good friend to you'}, {'generated_text': 'Can I play the game?\\n\\n'}, {'generated_text': 'Can I pay for my cell phone?'}, {'generated_text': 'Can I take it to all those schools'}, {'generated_text': 'Can I see you?\"\\n\\nElsa'}, {'generated_text': 'Can I just walk past him?\\n'}, {'generated_text': 'Can I take the elevator off of the'}, {'generated_text': 'Can I be more patient by following the'}, {'generated_text': 'Can I expect something like that?\" the'}, {'generated_text': 'Can I buy with money?\\n\\n'}, {'generated_text': 'Can I use the USB stick for my'}, {'generated_text': 'Can I look at this? Yeah.'}, {'generated_text': 'Can I look into that, or is'}, {'generated_text': 'Can I buy my copy?\\n\\n'}, {'generated_text': 'Can I just be a woman and say'}, {'generated_text': 'Can I really be interested?\" I said'}, {'generated_text': 'Can I buy a game to play with'}, {'generated_text': 'Can I start with a couple of simple'}, {'generated_text': 'Can I look and say that you all'}, {'generated_text': 'Can I get it?\" I want to'}, {'generated_text': 'Can I share with you the videos I'}, {'generated_text': 'Can I take a break?\\n\\n'}, {'generated_text': 'Can I keep my head down?\\n'}, {'generated_text': 'Can I use a mouse to see what'}, {'generated_text': 'Can I talk about me?\"\\n\\n'}, {'generated_text': 'Can I not start for my team if'}, {'generated_text': 'Can I put my hand on the side'}, {'generated_text': 'Can I get better?\" Yes, I'}, {'generated_text': 'Can I get an iPad Pro, with'}, {'generated_text': \"Can I not think that I've come\"}, {'generated_text': 'Can I use this feature on my devices'}, {'generated_text': 'Can I use these from now on?\"'}, {'generated_text': 'Can I be fired from any job?'}, {'generated_text': 'Can I see my dad or anything?\"'}, {'generated_text': 'Can I go out there and run my'}, {'generated_text': 'Can I play?\" I asked.\\n'}, {'generated_text': 'Can I buy a TV?\\n\\n'}, {'generated_text': 'Can I start a new game by copying'}, {'generated_text': 'Can I expect it to be that bad'}, {'generated_text': 'Can I get a license for the car'}, {'generated_text': 'Can I use this to connect to this'}, {'generated_text': 'Can I buy more?\" \"You can'}, {'generated_text': 'Can I help your girl with some more'}, {'generated_text': 'Can I use Windows 7 or 8 instead'}, {'generated_text': 'Can I get another chance?\\n\\n'}, {'generated_text': 'Can I make a cupcake? I'}, {'generated_text': 'Can I get to where you are?\"'}, {'generated_text': 'Can I get a full refund?\\n'}, {'generated_text': 'Can I get a free iPhone 5C'}, {'generated_text': 'Can I get up?\\n\\nDo'}, {'generated_text': \"Can I say, 'You're not\"}, {'generated_text': \"Can I just add a 'dumb\"}, {'generated_text': 'Can I get a book written by my'}, {'generated_text': 'Can I even explain what you and I'}, {'generated_text': 'Can I make coffee?\\n\\nThe'}, {'generated_text': 'Can I use this? Are my eyes'}, {'generated_text': 'Can I be the first and only female'}, {'generated_text': 'Can I come and go and talk with'}, {'generated_text': 'Can I be a girl on Earth?\"'}, {'generated_text': 'Can I just say that right now\"?'}, {'generated_text': 'Can I just give it back to you'}, {'generated_text': 'Can I change them, because I don'}, {'generated_text': 'Can I have a bag of candy from'}, {'generated_text': 'Can I take a picture?\\n\\n'}, {'generated_text': 'Can I use the \"finally\"'}, {'generated_text': 'Can I buy some of those. I'}, {'generated_text': 'Can I take a photo with me,'}, {'generated_text': \"Can I buy the other game I'm\"}, {'generated_text': 'Can I get back into the game from'}, {'generated_text': 'Can I use the Windows 8 update driver'}, {'generated_text': 'Can I get my stuff from the store'}, {'generated_text': 'Can I do it for free?\" She'}, {'generated_text': 'Can I write for a big publisher?'}, {'generated_text': 'Can I get the app to use my'}, {'generated_text': 'Can I pay you 10% for shipping'}, {'generated_text': 'Can I buy them in a store?'}, {'generated_text': 'Can I get pregnant on Sunday instead?'}, {'generated_text': \"Can I stay here? If you're\"}, {'generated_text': 'Can I change the color of a shirt'}, {'generated_text': 'Can I be like a mother?\"\\n'}, {'generated_text': 'Can I get any more of my old'}]\n"
     ]
    },
    {
     "name": "stderr",
     "output_type": "stream",
     "text": [
      "Setting `pad_token_id` to `eos_token_id`:50256 for open-end generation.\n"
     ]
    },
    {
     "name": "stdout",
     "output_type": "stream",
     "text": [
      "[{'generated_text': 'Can I see you in this car?'}, {'generated_text': 'Can I do the next episode just for'}, {'generated_text': 'Can I get you back in the house'}, {'generated_text': 'Can I just give you one look at'}, {'generated_text': 'Can I use an Arduino and an Arduino'}, {'generated_text': 'Can I have a copy of this?'}, {'generated_text': 'Can I have all the answers to the'}, {'generated_text': 'Can I use the right number of characters'}, {'generated_text': 'Can I get the phone you need?'}, {'generated_text': 'Can I share any information with you about'}, {'generated_text': 'Can I see my friend?\\n\\n'}, {'generated_text': 'Can I buy a coffee from a store'}, {'generated_text': 'Can I write a post for this blog'}, {'generated_text': 'Can I start with a note on our'}, {'generated_text': 'Can I just get up off the ledge'}, {'generated_text': 'Can I have a friend that I can'}, {'generated_text': 'Can I pay attention to my job in'}, {'generated_text': 'Can I be in charge of this?\"'}, {'generated_text': 'Can I use it with my Samsung Galaxy'}, {'generated_text': 'Can I get a job in a factory'}, {'generated_text': 'Can I expect new technology in this city'}, {'generated_text': 'Can I just use the new TK'}, {'generated_text': 'Can I have to talk about something so'}, {'generated_text': 'Can I just get over here and go'}, {'generated_text': 'Can I buy a second bottle?\" asks'}, {'generated_text': 'Can I get free shipping?\\n\\n'}, {'generated_text': 'Can I have a computer? Are I'}, {'generated_text': 'Can I give you a little idea of'}, {'generated_text': 'Can I help with the design or build'}, {'generated_text': 'Can I buy my own bike?\\n'}, {'generated_text': 'Can I wear our boots with the gloves'}, {'generated_text': 'Can I do?\\n\\nLet us'}, {'generated_text': 'Can I start another story?\\n\\n'}, {'generated_text': 'Can I use more than one app on'}, {'generated_text': 'Can I go shopping online once a week'}, {'generated_text': 'Can I do that?\\n\\nNo'}, {'generated_text': 'Can I eat and sleep with them?!'}, {'generated_text': 'Can I get my son to sign this'}, {'generated_text': 'Can I get a good drink in Seattle'}, {'generated_text': 'Can I buy and ship one of these'}, {'generated_text': 'Can I use this as my starter kit'}, {'generated_text': 'Can I read a story to people who'}, {'generated_text': \"Can I use a new computer that's\"}, {'generated_text': 'Can I use them on my PC?'}, {'generated_text': 'Can I have access to this?\" asked'}, {'generated_text': 'Can I use them as a replacement for'}, {'generated_text': 'Can I just leave my children alone?\"'}, {'generated_text': 'Can I make some food? We have'}, {'generated_text': 'Can I give you a bit of a'}, {'generated_text': \"Can I ever find a way you'd\"}, {'generated_text': 'Can I start this?\\n\\nYes'}, {'generated_text': 'Can I just pull one of his shirts'}, {'generated_text': 'Can I write a book on the subject'}, {'generated_text': 'Can I help make this game better?'}, {'generated_text': \"Can I just be a 'pro'\"}, {'generated_text': 'Can I really be that bad of a'}, {'generated_text': 'Can I just go back to this idea'}, {'generated_text': 'Can I share any of these ideas with'}, {'generated_text': 'Can I add some of this or does'}, {'generated_text': 'Can I expect them to do this to'}, {'generated_text': 'Can I go to my GP if my'}, {'generated_text': 'Can I still see any of you like'}, {'generated_text': 'Can I have to go there and live'}, {'generated_text': 'Can I see this video?\" She is'}, {'generated_text': 'Can I have something on the label and'}, {'generated_text': 'Can I come with someone to talk to'}, {'generated_text': 'Can I really say no to a girl'}, {'generated_text': 'Can I have the money? Yes,'}, {'generated_text': 'Can I put up a few signs before'}, {'generated_text': 'Can I see this guy?\\n\\n'}, {'generated_text': 'Can I leave my cell phone where you'}, {'generated_text': 'Can I just start a new career,'}, {'generated_text': 'Can I call this a BDD or'}, {'generated_text': 'Can I change the names of my books'}, {'generated_text': 'Can I even think about calling it something'}, {'generated_text': \"Can I do that? I won't\"}, {'generated_text': 'Can I read this on a laptop?'}, {'generated_text': 'Can I have a seat at the table'}, {'generated_text': 'Can I be a kid? No,'}, {'generated_text': 'Can I use a different version?\\n'}, {'generated_text': 'Can I buy and sell a motorcycle in'}, {'generated_text': 'Can I bring home a new book,'}, {'generated_text': 'Can I play with anyone? Because I'}, {'generated_text': 'Can I be part of this world?'}, {'generated_text': 'Can I use this instead of other stuff'}, {'generated_text': 'Can I use this as a new entry'}, {'generated_text': 'Can I see an alternative that takes all'}, {'generated_text': 'Can I read?\\n\\nNo.'}, {'generated_text': 'Can I have a date?\\n\\n'}, {'generated_text': 'Can I use my tablet without it being'}, {'generated_text': \"Can I say, 'I'm here\"}, {'generated_text': 'Can I expect to be able to participate'}, {'generated_text': 'Can I have time now to go back'}, {'generated_text': 'Can I have a phone?\\n\\n'}, {'generated_text': 'Can I say, my son, what'}, {'generated_text': 'Can I do any more?\"\\n\\n'}, {'generated_text': 'Can I get those? I mean,'}, {'generated_text': 'Can I use the Windows Server 2012 R'}, {'generated_text': 'Can I give this a 4 or 5'}, {'generated_text': 'Can I have any sort of experience in'}]\n"
     ]
    },
    {
     "name": "stderr",
     "output_type": "stream",
     "text": [
      "Setting `pad_token_id` to `eos_token_id`:50256 for open-end generation.\n"
     ]
    },
    {
     "name": "stdout",
     "output_type": "stream",
     "text": [
      "[{'generated_text': 'Can I bring you the best food in'}, {'generated_text': 'Can I keep it up?\\n\\n'}, {'generated_text': 'Can I just say hi to you?'}, {'generated_text': 'Can I put his penis over my penis'}, {'generated_text': 'Can I look at you as a kind'}, {'generated_text': 'Can I bring my iPhone in? Will'}, {'generated_text': 'Can I buy an iPhone with the new'}, {'generated_text': 'Can I be good with a phone so'}, {'generated_text': 'Can I see a guy like us?\"'}, {'generated_text': 'Can I start, then?\" \"What'}, {'generated_text': 'Can I watch his YouTube channel? I'}, {'generated_text': 'Can I just say in which context it'}, {'generated_text': 'Can I go on?\\n\\nNo'}, {'generated_text': 'Can I have to use that?\" he'}, {'generated_text': 'Can I find an alternative to getting some'}, {'generated_text': 'Can I have a \"HOLY'}, {'generated_text': 'Can I take out it?! What happens'}, {'generated_text': \"Can I take more. If it's\"}, {'generated_text': 'Can I make a contribution today to support'}, {'generated_text': 'Can I see my mom in my room'}, {'generated_text': 'Can I have the power to control other'}, {'generated_text': 'Can I just walk off on this?\"'}, {'generated_text': 'Can I keep my baby in the car'}, {'generated_text': 'Can I run the game and what am'}, {'generated_text': 'Can I say how pleased I am about'}, {'generated_text': 'Can I be a father or a mother'}, {'generated_text': 'Can I do that? I said,'}, {'generated_text': 'Can I try an iPad with the app'}, {'generated_text': 'Can I add it here as of version'}, {'generated_text': 'Can I just go away? Is there'}, {'generated_text': 'Can I have one if they dont want'}, {'generated_text': 'Can I use this for a lot of'}, {'generated_text': 'Can I read your thoughts?\\n\\n'}, {'generated_text': 'Can I use my USB port and connect'}, {'generated_text': 'Can I have a dog and what?'}, {'generated_text': 'Can I not have more than a single'}, {'generated_text': 'Can I eat anything that came with the'}, {'generated_text': 'Can I even make this vegan cheese recipe'}, {'generated_text': \"Can I say good bye I'm just\"}, {'generated_text': 'Can I have to do this a hundred'}, {'generated_text': 'Can I help him? If they do'}, {'generated_text': 'Can I run it in Visual Studio?'}, {'generated_text': 'Can I buy this product?\\n\\n'}, {'generated_text': 'Can I help?\\n\\nWe can'}, {'generated_text': 'Can I have my baby with you?\"'}, {'generated_text': 'Can I get these in my house already'}, {'generated_text': 'Can I join the team as well?'}, {'generated_text': 'Can I use my own code because of'}, {'generated_text': 'Can I find these things online?\\n\\n'}, {'generated_text': 'Can I read my own article?\\n'}, {'generated_text': 'Can I come in and do what I'}, {'generated_text': 'Can I put my hand in my pocket'}, {'generated_text': 'Can I get those things together for you'}, {'generated_text': 'Can I get an update on the progress'}, {'generated_text': 'Can I talk to you now about the'}, {'generated_text': 'Can I play in my own arena instead'}, {'generated_text': 'Can I change my name?\\n\\n'}, {'generated_text': 'Can I make him into the game?'}, {'generated_text': 'Can I start off with the idea of'}, {'generated_text': 'Can I use this service?\\n\\n'}, {'generated_text': 'Can I buy my hair out?\\n'}, {'generated_text': 'Can I give a name of the person'}, {'generated_text': 'Can I go the other way and get'}, {'generated_text': 'Can I make a post?\\n\\n'}, {'generated_text': 'Can I put in my credentials after I'}, {'generated_text': 'Can I do it too?\" he asks'}, {'generated_text': 'Can I take a break?\\n\\n'}, {'generated_text': 'Can I share a link?\" I asked'}, {'generated_text': 'Can I buy from this site?\\n'}, {'generated_text': 'Can I use it as a way to'}, {'generated_text': 'Can I get this game?\"\\n\\n'}, {'generated_text': 'Can I talk to you?\\n\\n'}, {'generated_text': 'Can I have something to drink? ['}, {'generated_text': 'Can I take it back and tell them'}, {'generated_text': 'Can I buy a new car and drive'}, {'generated_text': 'Can I have a look at your blog'}, {'generated_text': 'Can I get on a plane and get'}, {'generated_text': 'Can I just give you me a ride'}, {'generated_text': 'Can I just put all our files into'}, {'generated_text': 'Can I go?\" I asked. He'}, {'generated_text': 'Can I just play with a different set'}, {'generated_text': 'Can I get a tattoo of what she'}, {'generated_text': 'Can I have this?\" \"Uh,'}, {'generated_text': \"Can I tell you I don't get\"}, {'generated_text': 'Can I buy one if I want to'}, {'generated_text': 'Can I share? I can be more'}, {'generated_text': 'Can I have my phone number? Not'}, {'generated_text': 'Can I do enough?\"\\n\\nThe'}, {'generated_text': \"Can I do what I've always wanted\"}, {'generated_text': 'Can I use it on my Mac?'}, {'generated_text': 'Can I have my own?\"\\n\\n'}, {'generated_text': 'Can I talk about this?\\n\\n'}, {'generated_text': 'Can I do this by myself? I'}, {'generated_text': 'Can I join you now?\\n\\n'}, {'generated_text': 'Can I get a second pass to the'}, {'generated_text': 'Can I get in touch?\\n\\n'}, {'generated_text': 'Can I still have $10?\\n'}, {'generated_text': 'Can I be free to say that I'}, {'generated_text': 'Can I take your shoes off, my'}, {'generated_text': 'Can I leave this room?\\n\\n'}]\n"
     ]
    },
    {
     "name": "stderr",
     "output_type": "stream",
     "text": [
      "Setting `pad_token_id` to `eos_token_id`:50256 for open-end generation.\n"
     ]
    },
    {
     "name": "stdout",
     "output_type": "stream",
     "text": [
      "[{'generated_text': 'Can I do something about it?\"\\n'}, {'generated_text': 'Can I do it as your own?'}, {'generated_text': 'Can I be a part of the process'}, {'generated_text': 'Can I use Google Glass without the glasses'}, {'generated_text': 'Can I really do this?\"'}, {'generated_text': 'Can I give you a little background about'}, {'generated_text': \"Can I go somewhere I don't want\"}, {'generated_text': 'Can I stay inside?\\n\\nNo'}, {'generated_text': 'Can I look? I need some more'}, {'generated_text': 'Can I stay here because this is a'}, {'generated_text': 'Can I use it by myself? Do'}, {'generated_text': 'Can I buy my own food? No'}, {'generated_text': 'Can I get something from that place.'}, {'generated_text': 'Can I watch those videos on YouTube right'}, {'generated_text': 'Can I go in and tell you,'}, {'generated_text': 'Can I have a coffee?\" I asked'}, {'generated_text': 'Can I wear it?\" and \"I'}, {'generated_text': 'Can I keep my current gender on my'}, {'generated_text': 'Can I see my wife and sister?'}, {'generated_text': 'Can I use the Windows version?\\n'}, {'generated_text': 'Can I still join this team? Please'}, {'generated_text': 'Can I change my mind, or do'}, {'generated_text': \"Can I really think I'm better than\"}, {'generated_text': 'Can I play him?\" \"Yes.\"'}, {'generated_text': 'Can I do that? What time is'}, {'generated_text': 'Can I make coffee?\" he asked during'}, {'generated_text': 'Can I read it now - just put'}, {'generated_text': 'Can I see this at this point?'}, {'generated_text': 'Can I stop? No. This isn'}, {'generated_text': 'Can I read that?\\n\\nThe'}, {'generated_text': 'Can I just have the same look like'}, {'generated_text': 'Can I do this?\": No,'}, {'generated_text': 'Can I go to bed now and start'}, {'generated_text': 'Can I try?\\n\\nTo find'}, {'generated_text': 'Can I give you this opportunity so I'}, {'generated_text': 'Can I use it?\\n\\nWe'}, {'generated_text': 'Can I have to go the other way'}, {'generated_text': \"Can I just say you're trying to\"}, {'generated_text': 'Can I put my credit card details in'}, {'generated_text': 'Can I give this a go, then'}, {'generated_text': 'Can I play at least three minutes?'}, {'generated_text': 'Can I get a free digital download of'}, {'generated_text': 'Can I use that? Sure! I'}, {'generated_text': 'Can I buy a DVD and DVD player'}, {'generated_text': 'Can I get to make them?\\n'}, {'generated_text': 'Can I expect anything else from the government'}, {'generated_text': 'Can I ask what happened? If the'}, {'generated_text': 'Can I do this without telling my parents'}, {'generated_text': 'Can I use these for business reasons?'}, {'generated_text': 'Can I buy this in Canada?\\n\\n'}, {'generated_text': 'Can I keep writing, or just leave'}, {'generated_text': 'Can I use this to write CSS and'}, {'generated_text': 'Can I use my camera after turning it'}, {'generated_text': 'Can I buy my own food again?\"'}, {'generated_text': 'Can I stop talking and listening and playing'}, {'generated_text': 'Can I look at my hands? And'}, {'generated_text': 'Can I be an expert?\" said N'}, {'generated_text': 'Can I talk about why I consider myself'}, {'generated_text': 'Can I play to more than the capacity'}, {'generated_text': 'Can I use my card?\\n\\n'}, {'generated_text': 'Can I say that there are three different'}, {'generated_text': 'Can I get a refund in my refund'}, {'generated_text': 'Can I do that?!\" he shouted.'}, {'generated_text': 'Can I stop this song? (W'}, {'generated_text': 'Can I make it to the finish line'}, {'generated_text': 'Can I look at our situation with respect'}, {'generated_text': 'Can I use the same password with a'}, {'generated_text': \"Can I have them for my mom's\"}, {'generated_text': 'Can I get my $15 off?'}, {'generated_text': 'Can I use this?\\n\\nNo'}, {'generated_text': 'Can I just be a little bit more'}, {'generated_text': \"Can I go or don't I need\"}, {'generated_text': 'Can I do this with other people?'}, {'generated_text': 'Can I be too scared the moment I'}, {'generated_text': 'Can I even come here?\"\\n\\n'}, {'generated_text': 'Can I have a copy of him?\"'}, {'generated_text': 'Can I stop the game?\" he asked'}, {'generated_text': 'Can I pay a price for this service'}, {'generated_text': 'Can I just talk about the other stuff'}, {'generated_text': 'Can I get an extension like that?'}, {'generated_text': 'Can I get myself into the house?'}, {'generated_text': 'Can I just leave [me] alone'}, {'generated_text': 'Can I use it with my M2'}, {'generated_text': 'Can I do the laundry myself, and'}, {'generated_text': 'Can I take away our weapons? No'}, {'generated_text': 'Can I get to the airport?\\n'}, {'generated_text': 'Can I go to the movies, or'}, {'generated_text': 'Can I play the first four or five'}, {'generated_text': 'Can I use a custom keyboard for my'}, {'generated_text': 'Can I see what they have been up'}, {'generated_text': 'Can I get to the house in time'}, {'generated_text': 'Can I use it as a starter?'}, {'generated_text': 'Can I bring my laptop and my laptop'}, {'generated_text': 'Can I have the option to move to'}, {'generated_text': 'Can I talk more about it today?'}, {'generated_text': 'Can I make this?\\n\\nTo'}, {'generated_text': 'Can I buy an iPhone to take pictures'}, {'generated_text': 'Can I use a Bluetooth headset?\\n'}, {'generated_text': 'Can I give you my money back?'}, {'generated_text': 'Can I add some flavor to my soup'}]\n"
     ]
    }
   ],
   "source": [
    "generations = []\n",
    "for i in range(5):\n",
    "    generator = pipeline('text-generation', model='gpt2')\n",
    "    generated = generator(curstr, max_length=8, num_return_sequences=100)\n",
    "    generations.append(generated)\n",
    "    print(generated)"
   ]
  },
  {
   "cell_type": "code",
   "execution_count": 61,
   "id": "51f356fe",
   "metadata": {},
   "outputs": [
    {
     "name": "stderr",
     "output_type": "stream",
     "text": [
      "Setting `pad_token_id` to `eos_token_id`:50256 for open-end generation.\n",
      "Input length of input_ids is 5, but `max_length` is set to 5. This can lead to unexpected behavior. You should consider increasing `max_new_tokens`.\n"
     ]
    },
    {
     "data": {
      "text/plain": [
       "[{'generated_text': 'can I ask you to ask'},\n",
       " {'generated_text': 'can I ask you to explain'},\n",
       " {'generated_text': 'can I ask you to help'},\n",
       " {'generated_text': 'can I ask you to go'},\n",
       " {'generated_text': 'can I ask you to help'},\n",
       " {'generated_text': 'can I ask you to call'},\n",
       " {'generated_text': 'can I ask you to help'},\n",
       " {'generated_text': 'can I ask you to stop'},\n",
       " {'generated_text': 'can I ask you to come'},\n",
       " {'generated_text': 'can I ask you to please'},\n",
       " {'generated_text': 'can I ask you to help'},\n",
       " {'generated_text': 'can I ask you to please'},\n",
       " {'generated_text': 'can I ask you to join'},\n",
       " {'generated_text': 'can I ask you to take'},\n",
       " {'generated_text': 'can I ask you to remove'},\n",
       " {'generated_text': 'can I ask you to not'},\n",
       " {'generated_text': 'can I ask you to think'},\n",
       " {'generated_text': 'can I ask you to explain'},\n",
       " {'generated_text': 'can I ask you to please'},\n",
       " {'generated_text': 'can I ask you to be'},\n",
       " {'generated_text': 'can I ask you to stop'},\n",
       " {'generated_text': 'can I ask you to forgive'},\n",
       " {'generated_text': 'can I ask you to sit'},\n",
       " {'generated_text': 'can I ask you to do'},\n",
       " {'generated_text': 'can I ask you to continue'},\n",
       " {'generated_text': 'can I ask you to join'},\n",
       " {'generated_text': 'can I ask you to read'},\n",
       " {'generated_text': 'can I ask you to call'},\n",
       " {'generated_text': 'can I ask you to make'},\n",
       " {'generated_text': 'can I ask you to continue'},\n",
       " {'generated_text': 'can I ask you to leave'},\n",
       " {'generated_text': 'can I ask you to be'},\n",
       " {'generated_text': 'can I ask you to please'},\n",
       " {'generated_text': 'can I ask you to join'},\n",
       " {'generated_text': 'can I ask you to explain'},\n",
       " {'generated_text': 'can I ask you to share'},\n",
       " {'generated_text': 'can I ask you to ask'},\n",
       " {'generated_text': 'can I ask you to go'},\n",
       " {'generated_text': 'can I ask you to please'},\n",
       " {'generated_text': 'can I ask you to wait'},\n",
       " {'generated_text': 'can I ask you to do'},\n",
       " {'generated_text': 'can I ask you to think'},\n",
       " {'generated_text': 'can I ask you to pick'},\n",
       " {'generated_text': 'can I ask you to think'},\n",
       " {'generated_text': 'can I ask you to keep'},\n",
       " {'generated_text': 'can I ask you to put'},\n",
       " {'generated_text': 'can I ask you to use'},\n",
       " {'generated_text': 'can I ask you to go'},\n",
       " {'generated_text': 'can I ask you to not'},\n",
       " {'generated_text': 'can I ask you to do'},\n",
       " {'generated_text': 'can I ask you to make'},\n",
       " {'generated_text': 'can I ask you to do'},\n",
       " {'generated_text': 'can I ask you to leave'},\n",
       " {'generated_text': 'can I ask you to go'},\n",
       " {'generated_text': 'can I ask you to share'},\n",
       " {'generated_text': 'can I ask you to help'},\n",
       " {'generated_text': 'can I ask you to explain'},\n",
       " {'generated_text': 'can I ask you to sign'},\n",
       " {'generated_text': 'can I ask you to be'},\n",
       " {'generated_text': 'can I ask you to be'},\n",
       " {'generated_text': 'can I ask you to look'},\n",
       " {'generated_text': 'can I ask you to come'},\n",
       " {'generated_text': 'can I ask you to take'},\n",
       " {'generated_text': 'can I ask you to do'},\n",
       " {'generated_text': 'can I ask you to look'},\n",
       " {'generated_text': 'can I ask you to reconsider'},\n",
       " {'generated_text': 'can I ask you to reconsider'},\n",
       " {'generated_text': 'can I ask you to do'},\n",
       " {'generated_text': 'can I ask you to explain'},\n",
       " {'generated_text': 'can I ask you to ask'},\n",
       " {'generated_text': 'can I ask you to write'},\n",
       " {'generated_text': 'can I ask you to come'},\n",
       " {'generated_text': 'can I ask you to bring'},\n",
       " {'generated_text': 'can I ask you to please'},\n",
       " {'generated_text': 'can I ask you to take'},\n",
       " {'generated_text': 'can I ask you to make'},\n",
       " {'generated_text': 'can I ask you to do'},\n",
       " {'generated_text': 'can I ask you to stay'},\n",
       " {'generated_text': 'can I ask you to join'},\n",
       " {'generated_text': 'can I ask you to explain'},\n",
       " {'generated_text': 'can I ask you to ask'},\n",
       " {'generated_text': 'can I ask you to ask'},\n",
       " {'generated_text': 'can I ask you to please'},\n",
       " {'generated_text': 'can I ask you to continue'},\n",
       " {'generated_text': 'can I ask you to help'},\n",
       " {'generated_text': 'can I ask you to consider'},\n",
       " {'generated_text': 'can I ask you to go'},\n",
       " {'generated_text': 'can I ask you to take'},\n",
       " {'generated_text': 'can I ask you to keep'},\n",
       " {'generated_text': 'can I ask you to keep'},\n",
       " {'generated_text': 'can I ask you to do'},\n",
       " {'generated_text': 'can I ask you to keep'},\n",
       " {'generated_text': 'can I ask you to take'},\n",
       " {'generated_text': 'can I ask you to take'},\n",
       " {'generated_text': 'can I ask you to give'},\n",
       " {'generated_text': 'can I ask you to send'},\n",
       " {'generated_text': 'can I ask you to make'},\n",
       " {'generated_text': 'can I ask you to read'},\n",
       " {'generated_text': 'can I ask you to believe'},\n",
       " {'generated_text': 'can I ask you to consider'}]"
      ]
     },
     "execution_count": 61,
     "metadata": {},
     "output_type": "execute_result"
    }
   ],
   "source": [
    "generator = pipeline('text-generation', model='gpt2')\n",
    "generated = generator('can I ask you to', max_length=5, num_return_sequences=100)\n",
    "generated"
   ]
  },
  {
   "cell_type": "code",
   "execution_count": 62,
   "id": "3c8e97dc",
   "metadata": {},
   "outputs": [
    {
     "name": "stderr",
     "output_type": "stream",
     "text": [
      "Setting `pad_token_id` to `eos_token_id`:50256 for open-end generation.\n"
     ]
    },
    {
     "data": {
      "text/plain": [
       "[{'generated_text': 'ask you to please send'},\n",
       " {'generated_text': 'ask you to please.'},\n",
       " {'generated_text': 'ask you to please provide'},\n",
       " {'generated_text': 'ask you to please sit'},\n",
       " {'generated_text': 'ask you to please.'},\n",
       " {'generated_text': 'ask you to please leave'},\n",
       " {'generated_text': 'ask you to please sit'},\n",
       " {'generated_text': 'ask you to please give'},\n",
       " {'generated_text': 'ask you to please let'},\n",
       " {'generated_text': 'ask you to please move'},\n",
       " {'generated_text': 'ask you to please provide'},\n",
       " {'generated_text': 'ask you to please consider'},\n",
       " {'generated_text': 'ask you to please stop'},\n",
       " {'generated_text': 'ask you to please leave'},\n",
       " {'generated_text': 'ask you to please.'},\n",
       " {'generated_text': 'ask you to please make'}]"
      ]
     },
     "execution_count": 62,
     "metadata": {},
     "output_type": "execute_result"
    }
   ],
   "source": [
    "generator = pipeline('text-generation', model='gpt2')\n",
    "generated = generator('ask you to please', max_length=8, num_return_sequences=16)\n",
    "generated"
   ]
  },
  {
   "cell_type": "code",
   "execution_count": null,
   "id": "c1753a52",
   "metadata": {},
   "outputs": [],
   "source": [
    "generator = pipeline('text-generation', model='gpt2')\n",
    "generated = generator('can I ask you to please', max_length=5, num_return_sequences=16)\n",
    "generated"
   ]
  }
 ],
 "metadata": {
  "kernelspec": {
   "display_name": "Python 3 (ipykernel)",
   "language": "python",
   "name": "python3"
  },
  "language_info": {
   "codemirror_mode": {
    "name": "ipython",
    "version": 3
   },
   "file_extension": ".py",
   "mimetype": "text/x-python",
   "name": "python",
   "nbconvert_exporter": "python",
   "pygments_lexer": "ipython3",
   "version": "3.10.6"
  }
 },
 "nbformat": 4,
 "nbformat_minor": 5
}
