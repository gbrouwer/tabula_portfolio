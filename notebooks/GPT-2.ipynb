{
 "cells": [
  {
   "cell_type": "markdown",
   "id": "9d485a7c",
   "metadata": {},
   "source": [
    "### Import"
   ]
  },
  {
   "cell_type": "code",
   "execution_count": 10,
   "id": "3d752b4b",
   "metadata": {},
   "outputs": [],
   "source": [
    "from transformers import pipeline, set_seed\n",
    "from transformers import GPT2Tokenizer, GPT2Model"
   ]
  },
  {
   "cell_type": "markdown",
   "id": "c6041e64",
   "metadata": {},
   "source": [
    "### Model Param"
   ]
  },
  {
   "cell_type": "code",
   "execution_count": 18,
   "id": "4740b0c4",
   "metadata": {},
   "outputs": [],
   "source": [
    "tokenizer = GPT2Tokenizer.from_pretrained('gpt2')\n",
    "model = GPT2Model.from_pretrained('gpt2')\n",
    "text = \"Replace me by any text you'd like.\"\n",
    "encoded_input = tokenizer(text, return_tensors='pt')\n",
    "output = model(**encoded_input)"
   ]
  },
  {
   "cell_type": "markdown",
   "id": "fff4bb23",
   "metadata": {},
   "source": [
    "### Input Prompt"
   ]
  },
  {
   "cell_type": "code",
   "execution_count": 81,
   "id": "a0213f1b",
   "metadata": {},
   "outputs": [],
   "source": [
    "curstr = 'Can I'\n",
    "set_seed(100)\n",
    "lineage = [1,0]\n",
    "phrase = curstr"
   ]
  },
  {
   "cell_type": "markdown",
   "id": "b98f9cfa",
   "metadata": {},
   "source": [
    "### Start Generating Text"
   ]
  },
  {
   "cell_type": "code",
   "execution_count": 87,
   "id": "5bd53c6b",
   "metadata": {},
   "outputs": [
    {
     "name": "stderr",
     "output_type": "stream",
     "text": [
      "Setting `pad_token_id` to `eos_token_id`:50256 for open-end generation.\n",
      "Input length of input_ids is 20, but `max_length` is set to 5. This can lead to unexpected behavior. You should consider increasing `max_new_tokens`.\n",
      "Setting `pad_token_id` to `eos_token_id`:50256 for open-end generation.\n",
      "Input length of input_ids is 21, but `max_length` is set to 5. This can lead to unexpected behavior. You should consider increasing `max_new_tokens`.\n"
     ]
    }
   ],
   "source": [
    "generations = []\n",
    "for i in range(2):\n",
    "    path = lineage[i]\n",
    "    generator = pipeline('text-generation', model='gpt2')\n",
    "    generated = generator(curstr, max_length=5, num_return_sequences=20)\n",
    "    newstr = generated[path]['generated_text']\n",
    "    \n",
    "    generations.append(generated)"
   ]
  },
  {
   "cell_type": "code",
   "execution_count": 88,
   "id": "3075ae13",
   "metadata": {},
   "outputs": [
    {
     "data": {
      "text/plain": [
       "\"Can I Can I buy myself the Can I Can I buy myself the game: It's a beautiful game!\""
      ]
     },
     "execution_count": 88,
     "metadata": {},
     "output_type": "execute_result"
    }
   ],
   "source": [
    "curstr"
   ]
  },
  {
   "cell_type": "code",
   "execution_count": null,
   "id": "aa313382",
   "metadata": {},
   "outputs": [],
   "source": []
  }
 ],
 "metadata": {
  "kernelspec": {
   "display_name": "Python 3 (ipykernel)",
   "language": "python",
   "name": "python3"
  },
  "language_info": {
   "codemirror_mode": {
    "name": "ipython",
    "version": 3
   },
   "file_extension": ".py",
   "mimetype": "text/x-python",
   "name": "python",
   "nbconvert_exporter": "python",
   "pygments_lexer": "ipython3",
   "version": "3.10.6"
  }
 },
 "nbformat": 4,
 "nbformat_minor": 5
}
